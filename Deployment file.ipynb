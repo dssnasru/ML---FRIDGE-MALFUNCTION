{
 "cells": [
  {
   "cell_type": "code",
   "execution_count": 1,
   "id": "820e2a8c",
   "metadata": {},
   "outputs": [],
   "source": [
    "import pickle\n",
    "import numpy as np\n",
    "import warnings\n",
    "import datetime\n",
    "\n",
    "\n",
    "warnings.filterwarnings(\"ignore\")"
   ]
  },
  {
   "cell_type": "code",
   "execution_count": 4,
   "id": "99d91f4f",
   "metadata": {},
   "outputs": [],
   "source": [
    "model = pickle.load(open(\"Fridge_qualityck_model.pkl\",\"rb\"))\n",
    "loc_enc = pickle.load(open(\"loc_encoder.pkl\",\"rb\"))"
   ]
  },
  {
   "cell_type": "code",
   "execution_count": 10,
   "id": "3fe8d572",
   "metadata": {},
   "outputs": [],
   "source": [
    "def predictor(dc,dp,dt,cl,year,month,day):\n",
    "    cl_dc=loc_enc.transform(np.array([cl]))[0]\n",
    "    run_days=model.predict(np.array([[dc,dp,dt,cl_dc]]))[0]\n",
    "    pur=datetime.datetime(year,month,day)\n",
    "    end = pur + datetime.timedelta(days = run_days)\n",
    "    return end"
   ]
  },
  {
   "cell_type": "code",
   "execution_count": 11,
   "id": "fb05602b",
   "metadata": {},
   "outputs": [
    {
     "name": "stdout",
     "output_type": "stream",
     "text": [
      "2021-11-19 21:49:40.482483\n"
     ]
    }
   ],
   "source": [
    "print(predictor(220,3,39,\"Chennai\",2020,10,29))"
   ]
  },
  {
   "cell_type": "code",
   "execution_count": null,
   "id": "6989db16",
   "metadata": {},
   "outputs": [],
   "source": []
  }
 ],
 "metadata": {
  "kernelspec": {
   "display_name": "Python 3 (ipykernel)",
   "language": "python",
   "name": "python3"
  },
  "language_info": {
   "codemirror_mode": {
    "name": "ipython",
    "version": 3
   },
   "file_extension": ".py",
   "mimetype": "text/x-python",
   "name": "python",
   "nbconvert_exporter": "python",
   "pygments_lexer": "ipython3",
   "version": "3.9.12"
  }
 },
 "nbformat": 4,
 "nbformat_minor": 5
}
